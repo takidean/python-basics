{
 "cells": [
  {
   "cell_type": "code",
   "execution_count": 1,
   "metadata": {},
   "outputs": [
    {
     "data": {
      "text/plain": [
       "'à afin autant automatique automatisées autres aux bien calcul ces comme complexes compression connaissance considérée danalyse dans de den densembles des dincertitude discipline disjointes domaines données elle emploie en est et extraire formes généralement généraux haute informations informatique intéressantes la lanalytique lapprentissage larges le les lextraction limitée linformation lingénierie masse mathématiques méthodes modèles modélisation moins ne notamment objectif ou particulièrement pas performance plus plusieurs possible potentiellement premier principalement probabilistes produire programmation prophétique que qui reconnaissance sadaptent science signal soit sont source sources statistique stockage techniques technologie termes théorie théories tirées traitement tri utiles visualisation wikipédia'"
      ]
     },
     "execution_count": 1,
     "metadata": {},
     "output_type": "execute_result"
    }
   ],
   "source": [
    "vocab = open(\"dictionnaire.txt\",\"r\",encoding=\"utf-8\").read()\n",
    "vocab"
   ]
  },
  {
   "cell_type": "code",
   "execution_count": 3,
   "metadata": {},
   "outputs": [
    {
     "data": {
      "text/plain": [
       "['à', 'afin', 'autant', 'automatique', 'automatisées']"
      ]
     },
     "execution_count": 3,
     "metadata": {},
     "output_type": "execute_result"
    }
   ],
   "source": [
    "tokenized_vocab=vocab.split(\" \")\n",
    "tokenized_vocab[0:5]"
   ]
  },
  {
   "cell_type": "code",
   "execution_count": 8,
   "metadata": {},
   "outputs": [
    {
     "data": {
      "text/plain": [
       "\"En termes généraux, la scence des données est l'extraction de conaissance d'ensembles de données.   \\n \\nElle emploie des techniques et des théories tirées de plusieurs autres domaines plus larges des mathématiques, la statistique principalement, la téorie de l'information et la technologie de l'information, notamment le traitement de signal, des modèles probabilistes, l'apprentissage automatique, l'apprentissage statistiqe, la programmation informatique, l'ingénierie de données, la reconnaissance de formes et l'apprentissage, la visualisation, l'analytique prophétique, la modélisation d'incertitude, le stokage de données, la compression de données et le calcul à haute performance. \\n \\nLes méthodes qui s'adaptent aux données de masse sont particulièrement intéressantes dans la science des données, bien que la dicipline ne soit généralement pas considérée come limitée à ces données.   \\n \\nLe premier objectif est de produire des méthodes automatisées, autant que possible de tri et d'analyse de données de masse et de sources plus ou moins complexes ou disjointes de données, afin d'en extraire des informations utiles ou potentiellement utiles. Source Wikipédia\""
      ]
     },
     "execution_count": 8,
     "metadata": {},
     "output_type": "execute_result"
    }
   ],
   "source": [
    "f = open(\"texte.txt\",\"r\",encoding=\"utf-8\")\n",
    "texte_string=f.read()\n",
    "texte_string"
   ]
  },
  {
   "cell_type": "code",
   "execution_count": 9,
   "metadata": {},
   "outputs": [
    {
     "data": {
      "text/plain": [
       "'En termes généraux la scence des données est lextraction de conaissance densembles de données    Elle emploie des techniques et des théories tirées de plusieurs autres domaines plus larges des mathématiques la statistique principalement la téorie de linformation et la technologie de linformation notamment le traitement de signal des modèles probabilistes lapprentissage automatique lapprentissage statistiqe la programmation informatique lingénierie de données la reconnaissance de formes et lapprentissage la visualisation lanalytique prophétique la modélisation dincertitude le stokage de données la compression de données et le calcul à haute performance  Les méthodes qui sadaptent aux données de masse sont particulièrement intéressantes dans la science des données bien que la dicipline ne soit généralement pas considérée come limitée à ces données    Le premier objectif est de produire des méthodes automatisées autant que possible de tri et danalyse de données de masse et de sources plus ou moins complexes ou disjointes de données afin den extraire des informations utiles ou potentiellement utiles Source Wikipédia'"
      ]
     },
     "execution_count": 9,
     "metadata": {},
     "output_type": "execute_result"
    }
   ],
   "source": [
    "texte_string=texte_string.replace(\".\", \"\")\n",
    "texte_string=texte_string.replace(\"\\n\",\"\")\n",
    "texte_string=texte_string.replace(\",\", \"\")\n",
    "texte_string=texte_string.replace(\"'\", \"\")\n",
    "texte_string"
   ]
  },
  {
   "cell_type": "code",
   "execution_count": 14,
   "metadata": {},
   "outputs": [
    {
     "name": "stdout",
     "output_type": "stream",
     "text": [
      "En termes généraux la scence des données est lextraction de conaissance densembles de données    Elle emploie\n"
     ]
    }
   ],
   "source": [
    "def clean_text(texte_string):\n",
    "    texte_string=texte_string.replace(\".\", \"\")\n",
    "    texte_string=texte_string.replace(\"\\n\",\"\")\n",
    "    texte_string=texte_string.replace(\",\", \"\")\n",
    "    texte_string=texte_string.replace(\"'\", \"\")\n",
    "    texte_string=texte_string.lower()\n",
    "    return (texte_string)\n",
    "\n",
    "print (clean_text(\"En termes généraux, la scence des données est l'extraction de conaissance d'ensembles de données.   \\n \\nElle emploie\"))"
   ]
  },
  {
   "cell_type": "code",
   "execution_count": 15,
   "metadata": {},
   "outputs": [
    {
     "data": {
      "text/plain": [
       "'en termes généraux la scence des données est lextraction de conaissance densembles de données    elle emploie des techniques et des théories tirées de plusieurs autres domaines plus larges des mathématiques la statistique principalement la téorie de linformation et la technologie de linformation notamment le traitement de signal des modèles probabilistes lapprentissage automatique lapprentissage statistiqe la programmation informatique lingénierie de données la reconnaissance de formes et lapprentissage la visualisation lanalytique prophétique la modélisation dincertitude le stokage de données la compression de données et le calcul à haute performance  les méthodes qui sadaptent aux données de masse sont particulièrement intéressantes dans la science des données bien que la dicipline ne soit généralement pas considérée come limitée à ces données    le premier objectif est de produire des méthodes automatisées autant que possible de tri et danalyse de données de masse et de sources plus ou moins complexes ou disjointes de données afin den extraire des informations utiles ou potentiellement utiles source wikipédia'"
      ]
     },
     "execution_count": 15,
     "metadata": {},
     "output_type": "execute_result"
    }
   ],
   "source": [
    "texte_string.lower()"
   ]
  },
  {
   "cell_type": "code",
   "execution_count": 16,
   "metadata": {},
   "outputs": [
    {
     "data": {
      "text/plain": [
       "'En termes généraux la scence des données est lextraction de conaissance densembles de données    Elle emploie des techniques et des théories tirées de plusieurs autres domaines plus larges des mathématiques la statistique principalement la téorie de linformation et la technologie de linformation notamment le traitement de signal des modèles probabilistes lapprentissage automatique lapprentissage statistiqe la programmation informatique lingénierie de données la reconnaissance de formes et lapprentissage la visualisation lanalytique prophétique la modélisation dincertitude le stokage de données la compression de données et le calcul à haute performance  Les méthodes qui sadaptent aux données de masse sont particulièrement intéressantes dans la science des données bien que la dicipline ne soit généralement pas considérée come limitée à ces données    Le premier objectif est de produire des méthodes automatisées autant que possible de tri et danalyse de données de masse et de sources plus ou moins complexes ou disjointes de données afin den extraire des informations utiles ou potentiellement utiles Source Wikipédia'"
      ]
     },
     "execution_count": 16,
     "metadata": {},
     "output_type": "execute_result"
    }
   ],
   "source": [
    "clean_text(texte_string)"
   ]
  },
  {
   "cell_type": "code",
   "execution_count": 17,
   "metadata": {},
   "outputs": [
    {
     "data": {
      "text/plain": [
       "'En termes généraux la scence des données est lextraction de conaissance densembles de données    Elle emploie des techniques et des théories tirées de plusieurs autres domaines plus larges des mathématiques la statistique principalement la téorie de linformation et la technologie de linformation notamment le traitement de signal des modèles probabilistes lapprentissage automatique lapprentissage statistiqe la programmation informatique lingénierie de données la reconnaissance de formes et lapprentissage la visualisation lanalytique prophétique la modélisation dincertitude le stokage de données la compression de données et le calcul à haute performance  Les méthodes qui sadaptent aux données de masse sont particulièrement intéressantes dans la science des données bien que la dicipline ne soit généralement pas considérée come limitée à ces données    Le premier objectif est de produire des méthodes automatisées autant que possible de tri et danalyse de données de masse et de sources plus ou moins complexes ou disjointes de données afin den extraire des informations utiles ou potentiellement utiles Source Wikipédia'"
      ]
     },
     "execution_count": 17,
     "metadata": {},
     "output_type": "execute_result"
    }
   ],
   "source": [
    "clean_text(texte_string)"
   ]
  },
  {
   "cell_type": "code",
   "execution_count": 18,
   "metadata": {},
   "outputs": [
    {
     "data": {
      "text/plain": [
       "'En termes généraux la scence des données est lextraction de conaissance densembles de données    Elle emploie des techniques et des théories tirées de plusieurs autres domaines plus larges des mathématiques la statistique principalement la téorie de linformation et la technologie de linformation notamment le traitement de signal des modèles probabilistes lapprentissage automatique lapprentissage statistiqe la programmation informatique lingénierie de données la reconnaissance de formes et lapprentissage la visualisation lanalytique prophétique la modélisation dincertitude le stokage de données la compression de données et le calcul à haute performance  Les méthodes qui sadaptent aux données de masse sont particulièrement intéressantes dans la science des données bien que la dicipline ne soit généralement pas considérée come limitée à ces données    Le premier objectif est de produire des méthodes automatisées autant que possible de tri et danalyse de données de masse et de sources plus ou moins complexes ou disjointes de données afin den extraire des informations utiles ou potentiellement utiles Source Wikipédia'"
      ]
     },
     "execution_count": 18,
     "metadata": {},
     "output_type": "execute_result"
    }
   ],
   "source": [
    "clean_text(texte_string)"
   ]
  },
  {
   "cell_type": "code",
   "execution_count": 19,
   "metadata": {},
   "outputs": [
    {
     "data": {
      "text/plain": [
       "'En termes généraux la scence des données est lextraction de conaissance densembles de données    Elle emploie des techniques et des théories tirées de plusieurs autres domaines plus larges des mathématiques la statistique principalement la téorie de linformation et la technologie de linformation notamment le traitement de signal des modèles probabilistes lapprentissage automatique lapprentissage statistiqe la programmation informatique lingénierie de données la reconnaissance de formes et lapprentissage la visualisation lanalytique prophétique la modélisation dincertitude le stokage de données la compression de données et le calcul à haute performance  Les méthodes qui sadaptent aux données de masse sont particulièrement intéressantes dans la science des données bien que la dicipline ne soit généralement pas considérée come limitée à ces données    Le premier objectif est de produire des méthodes automatisées autant que possible de tri et danalyse de données de masse et de sources plus ou moins complexes ou disjointes de données afin den extraire des informations utiles ou potentiellement utiles Source Wikipédia'"
      ]
     },
     "execution_count": 19,
     "metadata": {},
     "output_type": "execute_result"
    }
   ],
   "source": [
    "texte_string = clean_text(texte_string)\n",
    "texte_string"
   ]
  },
  {
   "cell_type": "code",
   "execution_count": 20,
   "metadata": {},
   "outputs": [
    {
     "data": {
      "text/plain": [
       "'en termes généraux la scence des données est lextraction de conaissance densembles de données    elle emploie des techniques et des théories tirées de plusieurs autres domaines plus larges des mathématiques la statistique principalement la téorie de linformation et la technologie de linformation notamment le traitement de signal des modèles probabilistes lapprentissage automatique lapprentissage statistiqe la programmation informatique lingénierie de données la reconnaissance de formes et lapprentissage la visualisation lanalytique prophétique la modélisation dincertitude le stokage de données la compression de données et le calcul à haute performance  les méthodes qui sadaptent aux données de masse sont particulièrement intéressantes dans la science des données bien que la dicipline ne soit généralement pas considérée come limitée à ces données    le premier objectif est de produire des méthodes automatisées autant que possible de tri et danalyse de données de masse et de sources plus ou moins complexes ou disjointes de données afin den extraire des informations utiles ou potentiellement utiles source wikipédia'"
      ]
     },
     "execution_count": 20,
     "metadata": {},
     "output_type": "execute_result"
    }
   ],
   "source": [
    "def clean_text(texte_string):\n",
    "    texte_string=texte_string.replace(\".\", \"\")\n",
    "    texte_string=texte_string.replace(\"\\n\",\"\")\n",
    "    texte_string=texte_string.replace(\",\", \"\")\n",
    "    texte_string=texte_string.replace(\"'\", \"\")\n",
    "    texte_string=texte_string.lower()\n",
    "    return (texte_string)\n",
    "texte_string = clean_text(texte_string)\n",
    "texte_string"
   ]
  },
  {
   "cell_type": "code",
   "execution_count": 21,
   "metadata": {},
   "outputs": [],
   "source": [
    "def cleanString(string,change):\n",
    "    string=string.replace(change,\"\")\n",
    "    return string"
   ]
  },
  {
   "cell_type": "code",
   "execution_count": 22,
   "metadata": {},
   "outputs": [
    {
     "name": "stdout",
     "output_type": "stream",
     "text": [
      "Booom\n"
     ]
    }
   ],
   "source": [
    "def cleanString(string,change):\n",
    "    string=string.replace(change,\"\")\n",
    "    return string\n",
    "valtest=\"Booom???\"\n",
    "print(cleanString(valtest,\"?\"))"
   ]
  },
  {
   "cell_type": "code",
   "execution_count": 23,
   "metadata": {},
   "outputs": [
    {
     "name": "stdout",
     "output_type": "stream",
     "text": [
      "Booom\n"
     ]
    }
   ],
   "source": [
    "def modify_text(string,change,replacement):\n",
    "    string=string.replace(change,replacement)\n",
    "    return string\n",
    "valtest=\"Booom???\"\n",
    "print(modify_text(valtest,\"?\",\"\"))"
   ]
  },
  {
   "cell_type": "code",
   "execution_count": 24,
   "metadata": {},
   "outputs": [
    {
     "name": "stdout",
     "output_type": "stream",
     "text": [
      "Booom!!!\n"
     ]
    }
   ],
   "source": [
    "print(modify_text(valtest,\"?\",\"!\"))"
   ]
  },
  {
   "cell_type": "code",
   "execution_count": 26,
   "metadata": {},
   "outputs": [
    {
     "name": "stdout",
     "output_type": "stream",
     "text": [
      "booom\n"
     ]
    }
   ],
   "source": [
    "def modify_text(string,change,replacement):\n",
    "    for v in change:\n",
    "        if v in string:\n",
    "            string=string.replace(v,replacement)\n",
    "    string = string.lower()\n",
    "    return string\n",
    "valtest=\"Booom???!!\"\n",
    "print(modify_text(valtest,[\"?\",\"!\"],\"\"))"
   ]
  },
  {
   "cell_type": "code",
   "execution_count": 32,
   "metadata": {},
   "outputs": [
    {
     "name": "stdout",
     "output_type": "stream",
     "text": [
      "en termes généraux la scence des données est lextraction de conaissance densembles de données    elle emploie des techniques et des théories tirées de plusieurs autres domaines plus larges des mathématiques la statistique principalement la téorie de linformation et la technologie de linformation notamment le traitement de signal des modèles probabilistes lapprentissage automatique lapprentissage statistiqe la programmation informatique lingénierie de données la reconnaissance de formes et lapprentissage la visualisation lanalytique prophétique la modélisation dincertitude le stokage de données la compression de données et le calcul à haute performance  les méthodes qui sadaptent aux données de masse sont particulièrement intéressantes dans la science des données bien que la dicipline ne soit généralement pas considérée come limitée à ces données    le premier objectif est de produire des méthodes automatisées autant que possible de tri et danalyse de données de masse et de sources plus ou moins complexes ou disjointes de données afin den extraire des informations utiles ou potentiellement utiles source wikipédia\n"
     ]
    }
   ],
   "source": [
    "f=open(\"texte.txt\",\"r\",encoding=\"utf-8\")\n",
    "texte=f.read()\n",
    "texte=modify_text(texte,[\"?\",\"!\",\",\",\"'\",\"\\n\",\".\"],\"\")\n",
    "print(texte)"
   ]
  },
  {
   "cell_type": "code",
   "execution_count": 39,
   "metadata": {},
   "outputs": [
    {
     "name": "stdout",
     "output_type": "stream",
     "text": [
      "['en', 'termes', 'généraux', 'la', 'scence', 'des']\n"
     ]
    }
   ],
   "source": [
    "def modify_text_token(string,change,replacement):\n",
    "    string=modify_text(string,[\"?\",\"!\",\",\",\"'\",\"\\n\",\".\"],\"\")\n",
    "    string=string.split(\" \")\n",
    "    return string\n",
    "f=open(\"texte.txt\",\"r\",encoding=\"utf-8\")\n",
    "texte=f.read()\n",
    "texte=modify_text_token(texte,[\"?\",\"!\",\",\",\"'\",\"\\n\",\".\"],\"\")\n",
    "print(texte[0:6])"
   ]
  },
  {
   "cell_type": "code",
   "execution_count": 40,
   "metadata": {},
   "outputs": [
    {
     "data": {
      "text/plain": [
       "['scence',\n",
       " 'conaissance',\n",
       " '',\n",
       " '',\n",
       " '',\n",
       " 'téorie',\n",
       " 'statistiqe',\n",
       " 'stokage',\n",
       " '',\n",
       " 'dicipline',\n",
       " 'come',\n",
       " '',\n",
       " '',\n",
       " '']"
      ]
     },
     "execution_count": 40,
     "metadata": {},
     "output_type": "execute_result"
    }
   ],
   "source": [
    "mispelled_words=[]\n",
    "for word in texte:\n",
    "    if word not in tokenized_vocab:\n",
    "        mispelled_words.append(word)\n",
    "mispelled_words"
   ]
  },
  {
   "cell_type": "code",
   "execution_count": 44,
   "metadata": {},
   "outputs": [
    {
     "name": "stdout",
     "output_type": "stream",
     "text": [
      "['en', 'termes', 'généraux', 'la', 'scence', 'des', 'données', 'est', 'lextraction', 'de', 'conaissance', 'densembles', 'de', 'données', '', '', '', 'elle', 'emploie', 'des', 'techniques', 'et', 'des', 'théories', 'tirées', 'de', 'plusieurs', 'autres', 'domaines', 'plus', 'larges', 'des', 'mathématiques', 'la', 'statistique', 'principalement', 'la', 'téorie', 'de', 'linformation', 'et', 'la', 'technologie', 'de', 'linformation', 'notamment', 'le', 'traitement', 'de', 'signal', 'des', 'modèles', 'probabilistes', 'lapprentissage', 'automatique', 'lapprentissage', 'statistiqe', 'la', 'programmation', 'informatique', 'lingénierie', 'de', 'données', 'la', 'reconnaissance', 'de', 'formes', 'et', 'lapprentissage', 'la', 'visualisation', 'lanalytique', 'prophétique', 'la', 'modélisation', 'dincertitude', 'le', 'stokage', 'de', 'données', 'la', 'compression', 'de', 'données', 'et', 'le', 'calcul', 'à', 'haute', 'performance', '', 'les', 'méthodes', 'qui', 'sadaptent', 'aux', 'données', 'de', 'masse', 'sont', 'particulièrement', 'intéressantes', 'dans', 'la', 'science', 'des', 'données', 'bien', 'que', 'la', 'dicipline', 'ne', 'soit', 'généralement', 'pas', 'considérée', 'come', 'limitée', 'à', 'ces', 'données', '', '', '', 'le', 'premier', 'objectif', 'est', 'de', 'produire', 'des', 'méthodes', 'automatisées', 'autant', 'que', 'possible', 'de', 'tri', 'et', 'danalyse', 'de', 'données', 'de', 'masse', 'et', 'de', 'sources', 'plus', 'ou', 'moins', 'complexes', 'ou', 'disjointes', 'de', 'données', 'afin', 'den', 'extraire', 'des', 'informations', 'utiles', 'ou', 'potentiellement', 'utiles', 'source', 'wikipédia']\n"
     ]
    }
   ],
   "source": [
    "def modify_text(string,change,replacement):\n",
    "    for v in change:\n",
    "        if v in string:\n",
    "            string=string.replace(v,replacement)\n",
    "    string = string.lower()\n",
    "    return string\n",
    "def modify_text_token(string,change,replacement,clean=False):\n",
    "    if clean:\n",
    "        string=modify_text(string,[\"?\",\"!\",\",\",\"'\",\"\\n\",\".\"],\"\")\n",
    "    string=string.split(\" \")\n",
    "    return string\n",
    "texte=open(\"texte.txt\",\"r\",encoding=\"utf-8\").read()\n",
    "vocab = open(\"dictionnaire.txt\",\"r\",encoding=\"utf-8\").read()\n",
    "\n",
    "texte=modify_text_token(texte,[\"?\",\"!\",\",\",\"'\",\"\\n\",\".\"],\"\",True)\n",
    "print(texte[0:])"
   ]
  },
  {
   "cell_type": "code",
   "execution_count": 45,
   "metadata": {},
   "outputs": [],
   "source": [
    "vocab=modify_text_token(vocab,[\"?\",\"!\",\",\",\"'\",\"\\n\",\".\"],\"\")"
   ]
  },
  {
   "cell_type": "code",
   "execution_count": 46,
   "metadata": {},
   "outputs": [
    {
     "data": {
      "text/plain": [
       "['à',\n",
       " 'afin',\n",
       " 'autant',\n",
       " 'automatique',\n",
       " 'automatisées',\n",
       " 'autres',\n",
       " 'aux',\n",
       " 'bien',\n",
       " 'calcul',\n",
       " 'ces',\n",
       " 'comme',\n",
       " 'complexes',\n",
       " 'compression',\n",
       " 'connaissance',\n",
       " 'considérée',\n",
       " 'danalyse',\n",
       " 'dans',\n",
       " 'de',\n",
       " 'den',\n",
       " 'densembles',\n",
       " 'des',\n",
       " 'dincertitude',\n",
       " 'discipline',\n",
       " 'disjointes',\n",
       " 'domaines',\n",
       " 'données',\n",
       " 'elle',\n",
       " 'emploie',\n",
       " 'en',\n",
       " 'est',\n",
       " 'et',\n",
       " 'extraire',\n",
       " 'formes',\n",
       " 'généralement',\n",
       " 'généraux',\n",
       " 'haute',\n",
       " 'informations',\n",
       " 'informatique',\n",
       " 'intéressantes',\n",
       " 'la',\n",
       " 'lanalytique',\n",
       " 'lapprentissage',\n",
       " 'larges',\n",
       " 'le',\n",
       " 'les',\n",
       " 'lextraction',\n",
       " 'limitée',\n",
       " 'linformation',\n",
       " 'lingénierie',\n",
       " 'masse',\n",
       " 'mathématiques',\n",
       " 'méthodes',\n",
       " 'modèles',\n",
       " 'modélisation',\n",
       " 'moins',\n",
       " 'ne',\n",
       " 'notamment',\n",
       " 'objectif',\n",
       " 'ou',\n",
       " 'particulièrement',\n",
       " 'pas',\n",
       " 'performance',\n",
       " 'plus',\n",
       " 'plusieurs',\n",
       " 'possible',\n",
       " 'potentiellement',\n",
       " 'premier',\n",
       " 'principalement',\n",
       " 'probabilistes',\n",
       " 'produire',\n",
       " 'programmation',\n",
       " 'prophétique',\n",
       " 'que',\n",
       " 'qui',\n",
       " 'reconnaissance',\n",
       " 'sadaptent',\n",
       " 'science',\n",
       " 'signal',\n",
       " 'soit',\n",
       " 'sont',\n",
       " 'source',\n",
       " 'sources',\n",
       " 'statistique',\n",
       " 'stockage',\n",
       " 'techniques',\n",
       " 'technologie',\n",
       " 'termes',\n",
       " 'théorie',\n",
       " 'théories',\n",
       " 'tirées',\n",
       " 'traitement',\n",
       " 'tri',\n",
       " 'utiles',\n",
       " 'visualisation',\n",
       " 'wikipédia']"
      ]
     },
     "execution_count": 46,
     "metadata": {},
     "output_type": "execute_result"
    }
   ],
   "source": [
    "vocab"
   ]
  },
  {
   "cell_type": "code",
   "execution_count": 47,
   "metadata": {},
   "outputs": [
    {
     "data": {
      "text/plain": [
       "9.0"
      ]
     },
     "execution_count": 47,
     "metadata": {},
     "output_type": "execute_result"
    }
   ],
   "source": [
    "float(\"9\")"
   ]
  },
  {
   "cell_type": "code",
   "execution_count": null,
   "metadata": {},
   "outputs": [],
   "source": []
  }
 ],
 "metadata": {
  "kernelspec": {
   "display_name": "Python 3",
   "language": "python",
   "name": "python3"
  },
  "language_info": {
   "codemirror_mode": {
    "name": "ipython",
    "version": 3
   },
   "file_extension": ".py",
   "mimetype": "text/x-python",
   "name": "python",
   "nbconvert_exporter": "python",
   "pygments_lexer": "ipython3",
   "version": "3.7.6"
  }
 },
 "nbformat": 4,
 "nbformat_minor": 4
}
