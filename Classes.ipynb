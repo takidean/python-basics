{
 "cells": [
  {
   "cell_type": "code",
   "execution_count": 2,
   "metadata": {},
   "outputs": [],
   "source": [
    "class Car():\n",
    "    def __init__(self):\n",
    "        self.name=\"Audi\"\n",
    "        self.model=\"A4\"\n",
    "        self.color=\"Black\""
   ]
  },
  {
   "cell_type": "code",
   "execution_count": 3,
   "metadata": {},
   "outputs": [
    {
     "name": "stdout",
     "output_type": "stream",
     "text": [
      "Audi\n"
     ]
    }
   ],
   "source": [
    "new_car = Car()\n",
    "print(new_car.name)"
   ]
  },
  {
   "cell_type": "code",
   "execution_count": 4,
   "metadata": {},
   "outputs": [
    {
     "name": "stdout",
     "output_type": "stream",
     "text": [
      "real madrid\n"
     ]
    }
   ],
   "source": [
    "class Team():\n",
    "    def __init__(self,name):\n",
    "        self.name=name\n",
    "madrid = Team(\"real madrid\")\n",
    "print(madrid.name)"
   ]
  },
  {
   "cell_type": "code",
   "execution_count": 14,
   "metadata": {},
   "outputs": [
    {
     "name": "stdout",
     "output_type": "stream",
     "text": [
      "San Francisco 49ers\n",
      "8\n"
     ]
    }
   ],
   "source": [
    "import csv\n",
    "class Team():\n",
    "    def __init__(self,name):\n",
    "        self.name=name\n",
    "        file=open(\"nfl_csv.csv\")\n",
    "        self.list_csv=list(csv.reader(file))\n",
    "        \n",
    "    def count_victories(self):\n",
    "        count=0\n",
    "        for row in self.list_csv:\n",
    "            if row[2]==self.name:\n",
    "                count+=1\n",
    "        return count\n",
    "\n",
    "    def count_victories_per_year(self,year):\n",
    "        count=0\n",
    "        for row in self.list_csv:\n",
    "            if row[2]==self.name and row[0]==year:\n",
    "                count+=1\n",
    "        return count\n",
    "        \n",
    "Francisco = Team(\"San Francisco 49ers\")\n",
    "print(Francisco.name)\n",
    "total_wins=Francisco.count_victories_per_year(\"2009\")\n",
    "print(total_wins)"
   ]
  },
  {
   "cell_type": "code",
   "execution_count": null,
   "metadata": {},
   "outputs": [],
   "source": []
  }
 ],
 "metadata": {
  "kernelspec": {
   "display_name": "Python 3",
   "language": "python",
   "name": "python3"
  },
  "language_info": {
   "codemirror_mode": {
    "name": "ipython",
    "version": 3
   },
   "file_extension": ".py",
   "mimetype": "text/x-python",
   "name": "python",
   "nbconvert_exporter": "python",
   "pygments_lexer": "ipython3",
   "version": "3.7.6"
  }
 },
 "nbformat": 4,
 "nbformat_minor": 4
}
