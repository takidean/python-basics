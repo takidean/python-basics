{
 "cells": [
  {
   "cell_type": "code",
   "execution_count": 1,
   "metadata": {},
   "outputs": [],
   "source": [
    "days = 655"
   ]
  },
  {
   "cell_type": "code",
   "execution_count": 2,
   "metadata": {},
   "outputs": [
    {
     "data": {
      "text/plain": [
       "655"
      ]
     },
     "execution_count": 2,
     "metadata": {},
     "output_type": "execute_result"
    }
   ],
   "source": [
    "days"
   ]
  },
  {
   "cell_type": "code",
   "execution_count": 3,
   "metadata": {},
   "outputs": [
    {
     "name": "stdout",
     "output_type": "stream",
     "text": [
      "655\n"
     ]
    }
   ],
   "source": [
    "print(days)"
   ]
  },
  {
   "cell_type": "code",
   "execution_count": 4,
   "metadata": {},
   "outputs": [
    {
     "ename": "SyntaxError",
     "evalue": "invalid syntax (<ipython-input-4-6f8d8b63bb0f>, line 1)",
     "output_type": "error",
     "traceback": [
      "\u001b[1;36m  File \u001b[1;32m\"<ipython-input-4-6f8d8b63bb0f>\"\u001b[1;36m, line \u001b[1;32m1\u001b[0m\n\u001b[1;33m    int val=2\u001b[0m\n\u001b[1;37m          ^\u001b[0m\n\u001b[1;31mSyntaxError\u001b[0m\u001b[1;31m:\u001b[0m invalid syntax\n"
     ]
    }
   ],
   "source": [
    "int val=2"
   ]
  },
  {
   "cell_type": "code",
   "execution_count": 5,
   "metadata": {},
   "outputs": [],
   "source": [
    "val=2"
   ]
  },
  {
   "cell_type": "code",
   "execution_count": 6,
   "metadata": {},
   "outputs": [
    {
     "name": "stdout",
     "output_type": "stream",
     "text": [
      "2\n"
     ]
    }
   ],
   "source": [
    "val_to_str=str(val)\n",
    "print(val_to_str)"
   ]
  },
  {
   "cell_type": "code",
   "execution_count": 7,
   "metadata": {},
   "outputs": [],
   "source": [
    "squared=val * 2"
   ]
  },
  {
   "cell_type": "code",
   "execution_count": 8,
   "metadata": {},
   "outputs": [
    {
     "data": {
      "text/plain": [
       "4"
      ]
     },
     "execution_count": 8,
     "metadata": {},
     "output_type": "execute_result"
    }
   ],
   "source": [
    "squared"
   ]
  },
  {
   "cell_type": "code",
   "execution_count": 9,
   "metadata": {},
   "outputs": [],
   "source": [
    "val = 3"
   ]
  },
  {
   "cell_type": "code",
   "execution_count": 10,
   "metadata": {},
   "outputs": [],
   "source": [
    "squared = val * 2"
   ]
  },
  {
   "cell_type": "code",
   "execution_count": 11,
   "metadata": {},
   "outputs": [
    {
     "data": {
      "text/plain": [
       "6"
      ]
     },
     "execution_count": 11,
     "metadata": {},
     "output_type": "execute_result"
    }
   ],
   "source": [
    "squared"
   ]
  },
  {
   "cell_type": "code",
   "execution_count": 12,
   "metadata": {},
   "outputs": [
    {
     "data": {
      "text/plain": [
       "9"
      ]
     },
     "execution_count": 12,
     "metadata": {},
     "output_type": "execute_result"
    }
   ],
   "source": [
    "squared= val ** 2\n",
    "squared"
   ]
  },
  {
   "cell_type": "code",
   "execution_count": 13,
   "metadata": {},
   "outputs": [
    {
     "data": {
      "text/plain": [
       "4.5"
      ]
     },
     "execution_count": 13,
     "metadata": {},
     "output_type": "execute_result"
    }
   ],
   "source": [
    "square_divide = squared / 2\n",
    "square_divide"
   ]
  },
  {
   "cell_type": "code",
   "execution_count": 14,
   "metadata": {},
   "outputs": [
    {
     "data": {
      "text/plain": [
       "4"
      ]
     },
     "execution_count": 14,
     "metadata": {},
     "output_type": "execute_result"
    }
   ],
   "source": [
    "list_months=[1,2,3,4]\n",
    "len(list_months)"
   ]
  },
  {
   "cell_type": "code",
   "execution_count": 15,
   "metadata": {},
   "outputs": [
    {
     "ename": "SyntaxError",
     "evalue": "invalid character in identifier (<ipython-input-15-ba5265c611c2>, line 1)",
     "output_type": "error",
     "traceback": [
      "\u001b[1;36m  File \u001b[1;32m\"<ipython-input-15-ba5265c611c2>\"\u001b[1;36m, line \u001b[1;32m1\u001b[0m\n\u001b[1;33m    numbers=[1,2,3]\u001b[0m\n\u001b[1;37m                   ^\u001b[0m\n\u001b[1;31mSyntaxError\u001b[0m\u001b[1;31m:\u001b[0m invalid character in identifier\n"
     ]
    }
   ],
   "source": [
    "numbers=[1,2,3] \n",
    "\n",
    "letters=['A','b','c'] \n",
    "\n",
    "sum= numbers+letters;"
   ]
  },
  {
   "cell_type": "code",
   "execution_count": 16,
   "metadata": {},
   "outputs": [
    {
     "data": {
      "text/plain": [
       "[1, 2, 3, 'A', 'b', 'c']"
      ]
     },
     "execution_count": 16,
     "metadata": {},
     "output_type": "execute_result"
    }
   ],
   "source": [
    "numbers=[1,2,3]\n",
    "\n",
    "letters=['A','b','c']\n",
    "\n",
    "sum= numbers+letters\n",
    "sum"
   ]
  },
  {
   "cell_type": "code",
   "execution_count": 17,
   "metadata": {},
   "outputs": [],
   "source": [
    "letters=['A','b','c','d','e']"
   ]
  },
  {
   "cell_type": "code",
   "execution_count": 18,
   "metadata": {
    "collapsed": true
   },
   "outputs": [
    {
     "data": {
      "text/plain": [
       "['c', 'd']"
      ]
     },
     "execution_count": 18,
     "metadata": {},
     "output_type": "execute_result"
    }
   ],
   "source": [
    "letters[2:4]"
   ]
  },
  {
   "cell_type": "code",
   "execution_count": 19,
   "metadata": {},
   "outputs": [
    {
     "data": {
      "text/plain": [
       "['c', 'd', 'e']"
      ]
     },
     "execution_count": 19,
     "metadata": {},
     "output_type": "execute_result"
    }
   ],
   "source": [
    "letters[len(letters)-3:]"
   ]
  },
  {
   "cell_type": "code",
   "execution_count": 20,
   "metadata": {},
   "outputs": [
    {
     "ename": "NameError",
     "evalue": "name 'python' is not defined",
     "output_type": "error",
     "traceback": [
      "\u001b[1;31m---------------------------------------------------------------------------\u001b[0m",
      "\u001b[1;31mNameError\u001b[0m                                 Traceback (most recent call last)",
      "\u001b[1;32m<ipython-input-20-be08cae86eec>\u001b[0m in \u001b[0;36m<module>\u001b[1;34m\u001b[0m\n\u001b[1;32m----> 1\u001b[1;33m \u001b[0mopen\u001b[0m\u001b[1;33m(\u001b[0m\u001b[0mpython\u001b[0m\u001b[1;33m.\u001b[0m\u001b[0mtxt\u001b[0m\u001b[1;33m,\u001b[0m\u001b[0mr\u001b[0m\u001b[1;33m)\u001b[0m\u001b[1;33m\u001b[0m\u001b[1;33m\u001b[0m\u001b[0m\n\u001b[0m",
      "\u001b[1;31mNameError\u001b[0m: name 'python' is not defined"
     ]
    }
   ],
   "source": [
    "open(python.txt,r)"
   ]
  },
  {
   "cell_type": "code",
   "execution_count": 21,
   "metadata": {},
   "outputs": [
    {
     "ename": "NameError",
     "evalue": "name 'original' is not defined",
     "output_type": "error",
     "traceback": [
      "\u001b[1;31m---------------------------------------------------------------------------\u001b[0m",
      "\u001b[1;31mNameError\u001b[0m                                 Traceback (most recent call last)",
      "\u001b[1;32m<ipython-input-21-fb9d8901ea7f>\u001b[0m in \u001b[0;36m<module>\u001b[1;34m\u001b[0m\n\u001b[1;32m----> 1\u001b[1;33m \u001b[0mopen\u001b[0m\u001b[1;33m(\u001b[0m\u001b[0moriginal\u001b[0m\u001b[1;33m.\u001b[0m\u001b[0mtxt\u001b[0m\u001b[1;33m,\u001b[0m\u001b[0mr\u001b[0m\u001b[1;33m)\u001b[0m\u001b[1;33m\u001b[0m\u001b[1;33m\u001b[0m\u001b[0m\n\u001b[0m",
      "\u001b[1;31mNameError\u001b[0m: name 'original' is not defined"
     ]
    }
   ],
   "source": [
    "open(original.txt,r)"
   ]
  },
  {
   "cell_type": "code",
   "execution_count": 22,
   "metadata": {},
   "outputs": [
    {
     "ename": "NameError",
     "evalue": "name 'r' is not defined",
     "output_type": "error",
     "traceback": [
      "\u001b[1;31m---------------------------------------------------------------------------\u001b[0m",
      "\u001b[1;31mNameError\u001b[0m                                 Traceback (most recent call last)",
      "\u001b[1;32m<ipython-input-22-4928f2447e80>\u001b[0m in \u001b[0;36m<module>\u001b[1;34m\u001b[0m\n\u001b[1;32m----> 1\u001b[1;33m \u001b[0mopen\u001b[0m\u001b[1;33m(\u001b[0m\u001b[1;34m\"original.txt\"\u001b[0m\u001b[1;33m,\u001b[0m\u001b[0mr\u001b[0m\u001b[1;33m)\u001b[0m\u001b[1;33m\u001b[0m\u001b[1;33m\u001b[0m\u001b[0m\n\u001b[0m",
      "\u001b[1;31mNameError\u001b[0m: name 'r' is not defined"
     ]
    }
   ],
   "source": [
    "open(\"original.txt\",r)"
   ]
  },
  {
   "cell_type": "code",
   "execution_count": 23,
   "metadata": {},
   "outputs": [
    {
     "data": {
      "text/plain": [
       "<_io.TextIOWrapper name='original.txt' mode='r' encoding='cp1252'>"
      ]
     },
     "execution_count": 23,
     "metadata": {},
     "output_type": "execute_result"
    }
   ],
   "source": [
    "open(\"original.txt\",\"r\")"
   ]
  },
  {
   "cell_type": "code",
   "execution_count": 24,
   "metadata": {},
   "outputs": [
    {
     "data": {
      "text/plain": [
       "'Je lis mon premier fichier !!!'"
      ]
     },
     "execution_count": 24,
     "metadata": {},
     "output_type": "execute_result"
    }
   ],
   "source": [
    "open(\"original.txt\",\"r\").read()"
   ]
  },
  {
   "cell_type": "code",
   "execution_count": 25,
   "metadata": {},
   "outputs": [
    {
     "data": {
      "text/plain": [
       "['tom', 'fred', 'bob']"
      ]
     },
     "execution_count": 25,
     "metadata": {},
     "output_type": "execute_result"
    }
   ],
   "source": [
    "names=\"tom,fred,bob\"\n",
    "names.split(\",\")"
   ]
  },
  {
   "cell_type": "code",
   "execution_count": 26,
   "metadata": {},
   "outputs": [],
   "source": [
    "o=open(\"original.csv\",\"r\")\n",
    "g=o.read()\n",
    "rows = g.split(\"\\n\")"
   ]
  },
  {
   "cell_type": "code",
   "execution_count": 27,
   "metadata": {},
   "outputs": [
    {
     "data": {
      "text/plain": [
       "['Ain,643309',\n",
       " 'Aisne,554040',\n",
       " 'Allier,353262',\n",
       " 'Alpes-de-Haute-Provence,166298',\n",
       " 'Alpes-Maritimes,1098785',\n",
       " 'Ardèche,332051',\n",
       " 'Ardennes,287775',\n",
       " 'Ariège,158076',\n",
       " 'Aube,316098',\n",
       " 'Aude,375065',\n",
       " 'Aveyron,289901',\n",
       " 'Bas-Rhin,1131812',\n",
       " 'Bouches-du-Rhône,2035475',\n",
       " 'Calvados,708407',\n",
       " 'Cantal,152400',\n",
       " 'Charente,366787',\n",
       " 'Charente-Maritime,656046',\n",
       " 'Cher,318590',\n",
       " 'Corrèze,249684',\n",
       " 'Corse-du-Sud,154100',\n",
       " \"Côte-d'Or,545001\",\n",
       " \"Côtes-d'Armor,617413\",\n",
       " 'Creuse,124948',\n",
       " 'Deux-Sèvres,384655',\n",
       " 'Dordogne,428651',\n",
       " 'Doubs,549155',\n",
       " 'Drôme,514104',\n",
       " 'Essonne,1286908',\n",
       " 'Eure,616076',\n",
       " 'Eure-et-Loir,445083',\n",
       " 'Finistère,935393',\n",
       " 'Gard,752382',\n",
       " 'Gers,197988',\n",
       " 'Gironde,1556663',\n",
       " 'Guadeloupe,406706',\n",
       " 'Guyane,254845',\n",
       " 'Haute-Corse,175499',\n",
       " 'Haute-Garonne,1344579',\n",
       " 'Haute-Loire,234078',\n",
       " 'Haute-Marne,186698',\n",
       " 'Hautes-Alpes,145213',\n",
       " 'Haute-Saône,246022',\n",
       " 'Haute-Savoie,806447',\n",
       " 'Hautes-Pyrénées,236577',\n",
       " 'Haute-Vienne,384708',\n",
       " 'Haut-Rhin,775941',\n",
       " 'Hauts-de-Seine,1617484',\n",
       " 'Hérault,1127333',\n",
       " 'Ille-et-Vilaine,1060051',\n",
       " 'Indre,232802',\n",
       " 'Indre-et-Loire,619004',\n",
       " 'Isère,1271938',\n",
       " 'Jura,270826',\n",
       " 'La Réunion,541487',\n",
       " 'Landes,414090',\n",
       " 'Loire,774262',\n",
       " 'Loire-Atlantique,1382766',\n",
       " 'Loiret,688098',\n",
       " 'Loir-et-Cher,344121',\n",
       " 'Lot,180016',\n",
       " 'Lot-et-Garonne,343198',\n",
       " 'Lozère,80423',\n",
       " 'Maine-et-Loire,829156',\n",
       " 'Manche,518322',\n",
       " 'Marne,584297',\n",
       " 'Martinique,390252',\n",
       " 'Mayenne,317716',\n",
       " 'Meurthe-et-Moselle,746687',\n",
       " 'Meuse,197763',\n",
       " 'Morbihan,764338',\n",
       " 'Moselle,1065894',\n",
       " 'Nièvre,221048',\n",
       " 'Nord,2640622',\n",
       " 'Oise,838646',\n",
       " 'Orne,297109',\n",
       " 'Paris,2243739',\n",
       " 'Pas-de-Calais,1497668',\n",
       " 'Puy-de-Dôme,661248',\n",
       " 'Pyrénées-Atlantiques,688451',\n",
       " 'Pyrénées-Orientales,474842',\n",
       " 'Rhône,1833002',\n",
       " 'Saône-et-Loire,574229',\n",
       " 'Sarthe,583961',\n",
       " 'Savoie,440777',\n",
       " 'Seine-et-Marne,1400477',\n",
       " 'Seine-Maritime,1284107',\n",
       " 'Seine-Saint-Denis,1582139',\n",
       " 'Somme,583641',\n",
       " 'Tarn,396341',\n",
       " 'Tarn-et-Garonne,258696',\n",
       " 'Territoire de Belfort,147647',\n",
       " 'Val-de-Marne,1377511',\n",
       " \"Val-d'Oise,1221946\",\n",
       " 'Var,1055745',\n",
       " 'Vaucluse,566592',\n",
       " 'Vendée,681469',\n",
       " 'Vienne,444347',\n",
       " 'Vosges,386978',\n",
       " 'Yonne,352433',\n",
       " 'Yvelines,1449398']"
      ]
     },
     "execution_count": 27,
     "metadata": {},
     "output_type": "execute_result"
    }
   ],
   "source": [
    "rows"
   ]
  },
  {
   "cell_type": "code",
   "execution_count": 28,
   "metadata": {},
   "outputs": [
    {
     "data": {
      "text/plain": [
       "['Ardèche,332051',\n",
       " 'Ardennes,287775',\n",
       " 'Ariège,158076',\n",
       " 'Aube,316098',\n",
       " 'Aude,375065']"
      ]
     },
     "execution_count": 28,
     "metadata": {},
     "output_type": "execute_result"
    }
   ],
   "source": [
    "ten_rows = rows[5:10]\n",
    "ten_rows"
   ]
  },
  {
   "cell_type": "code",
   "execution_count": 29,
   "metadata": {},
   "outputs": [
    {
     "data": {
      "text/plain": [
       "[['Ardèche', '332051'],\n",
       " ['Ardennes', '287775'],\n",
       " ['Ariège', '158076'],\n",
       " ['Aube', '316098'],\n",
       " ['Aude', '375065']]"
      ]
     },
     "execution_count": 29,
     "metadata": {},
     "output_type": "execute_result"
    }
   ],
   "source": [
    "final_list=[]\n",
    "for row in ten_rows:\n",
    "    final_list.append(row.split(\",\"))\n",
    "final_list"
   ]
  },
  {
   "cell_type": "code",
   "execution_count": 30,
   "metadata": {},
   "outputs": [
    {
     "data": {
      "text/plain": [
       "'332051'"
      ]
     },
     "execution_count": 30,
     "metadata": {},
     "output_type": "execute_result"
    }
   ],
   "source": [
    "final_list[0][1]"
   ]
  },
  {
   "cell_type": "code",
   "execution_count": 31,
   "metadata": {},
   "outputs": [
    {
     "name": "stdout",
     "output_type": "stream",
     "text": [
      "332051\n",
      "287775\n",
      "158076\n",
      "316098\n",
      "375065\n"
     ]
    }
   ],
   "source": [
    "for val in final_list:\n",
    "    print(final_list[final_list.index(val)][1] )"
   ]
  },
  {
   "cell_type": "code",
   "execution_count": null,
   "metadata": {},
   "outputs": [],
   "source": []
  }
 ],
 "metadata": {
  "kernelspec": {
   "display_name": "Python 3",
   "language": "python",
   "name": "python3"
  },
  "language_info": {
   "codemirror_mode": {
    "name": "ipython",
    "version": 3
   },
   "file_extension": ".py",
   "mimetype": "text/x-python",
   "name": "python",
   "nbconvert_exporter": "python",
   "pygments_lexer": "ipython3",
   "version": "3.7.6"
  }
 },
 "nbformat": 4,
 "nbformat_minor": 4
}
